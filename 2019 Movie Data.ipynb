{
 "cells": [
  {
   "cell_type": "code",
   "execution_count": null,
   "metadata": {},
   "outputs": [],
   "source": [
    "urls = [\"https://www.imdb.com/search/title/?title_type=feature&year=2019-01-01,2019-12-31&sort=num_votes,desc\",'https://www.imdb.com/search/title/?title_type=feature&year=2019-01-01,2019-12-31&sort=num_votes,desc&start=51&ref_=adv_nxt','https://www.imdb.com/search/title/?title_type=feature&year=2019-01-01,2019-12-31&sort=num_votes,desc&start=101&ref_=adv_nxt']\n",
    "import requests\n",
    "r = requests.get(urls[0])\n",
    "r1 =requests.get(urls[1])\n",
    "r2 = requests.get(urls[2])\n",
    "r.status_code\n",
    "r1.status_code\n",
    "r2.status_code"
   ]
  },
  {
   "cell_type": "code",
   "execution_count": null,
   "metadata": {},
   "outputs": [],
   "source": [
    "html = r.text\n",
    "html1 = r1.text\n",
    "html2 = r2.text\n",
    "import bs4\n",
    "soup = bs4.BeautifulSoup(html, 'html.parser')\n",
    "soup1 = bs4.BeautifulSoup(html1, 'html.parser')\n",
    "soup2 = bs4.BeautifulSoup(html2, 'html.parser')\n",
    "type(soup)\n",
    "soup.title.text.strip()"
   ]
  },
  {
   "cell_type": "code",
   "execution_count": null,
   "metadata": {},
   "outputs": [],
   "source": [
    "movies1 = soup.find_all('div', class_=\"lister-item mode-advanced\")\n",
    "movies2 = soup1.find_all('div', class_=\"lister-item mode-advanced\")\n",
    "movies3 = soup2.find_all('div', class_=\"lister-item mode-advanced\")\n",
    "movies=[]\n",
    "for movie in movies1:\n",
    "    movies.append(movie)\n",
    "for movie in movies2:\n",
    "    movies.append(movie)\n",
    "for movie in movies3:\n",
    "    movies.append(movie)\n",
    "len(movies)"
   ]
  },
  {
   "cell_type": "code",
   "execution_count": null,
   "metadata": {},
   "outputs": [],
   "source": [
    "tags=[]\n",
    "for per_movie in movies:\n",
    "    collection = per_movie.findAll(\"img\") \n",
    "    for img in collection:\n",
    "        if 'alt' in img.attrs:\n",
    "            if img.attrs['alt'] not in tags:\n",
    "                tags.append(img.attrs['alt'])\n",
    "len(tags)"
   ]
  },
  {
   "cell_type": "code",
   "execution_count": 121,
   "metadata": {},
   "outputs": [
    {
     "data": {
      "text/plain": [
       "150"
      ]
     },
     "execution_count": 121,
     "metadata": {},
     "output_type": "execute_result"
    }
   ],
   "source": [
    "metascores=[]\n",
    "for per_movie in movies:\n",
    "    meta_score = per_movie.find('div', class_=\"inline-block ratings-metascore\")\n",
    "    if meta_score!=None:\n",
    "        if meta_score.find('span', class_=\"metascore mixed\") != None:\n",
    "            metascores.append(meta_score.find('span', class_=\"metascore mixed\").text.strip())\n",
    "        elif meta_score.find('span', class_=\"metascore favorable\") != None:\n",
    "            metascores.append(meta_score.find('span', class_=\"metascore favorable\").text.strip())\n",
    "        elif meta_score.find('span', class_=\"metascore unfavorable\") != None:\n",
    "            metascores.append(meta_score.find('span', class_=\"metascore unfavorable\").text.strip())\n",
    "        else: metascores.append(None)\n",
    "    else: metascores.append(None)\n",
    "len(metascores)"
   ]
  },
  {
   "cell_type": "code",
   "execution_count": 122,
   "metadata": {},
   "outputs": [
    {
     "data": {
      "text/plain": [
       "150"
      ]
     },
     "execution_count": 122,
     "metadata": {},
     "output_type": "execute_result"
    }
   ],
   "source": [
    "movie_ratings=[]\n",
    "for per_movie in movies:\n",
    "    rating= per_movie.find('strong').text\n",
    "    rating = float(rating)/.1\n",
    "    movie_ratings.append(rating)\n",
    "len(movie_ratings)"
   ]
  },
  {
   "cell_type": "code",
   "execution_count": 123,
   "metadata": {},
   "outputs": [
    {
     "data": {
      "text/plain": [
       "150"
      ]
     },
     "execution_count": 123,
     "metadata": {},
     "output_type": "execute_result"
    }
   ],
   "source": [
    "movie_genres=[]\n",
    "for per_movie in movies:\n",
    "    genre= per_movie.find('span', class_=\"genre\").text.strip()\n",
    "    movie_genres.append(genre)\n",
    "len(movie_genres)\n"
   ]
  },
  {
   "cell_type": "code",
   "execution_count": 124,
   "metadata": {},
   "outputs": [
    {
     "data": {
      "text/plain": [
       "150"
      ]
     },
     "execution_count": 124,
     "metadata": {},
     "output_type": "execute_result"
    }
   ],
   "source": [
    "runtimes=[]\n",
    "for per_movie in movies:\n",
    "    runtime= per_movie.find('span',class_=\"runtime\")\n",
    "    runtime = int(runtime.text.strip()[0:3])\n",
    "    runtimes.append(runtime)\n",
    "len(runtimes)"
   ]
  },
  {
   "cell_type": "code",
   "execution_count": 125,
   "metadata": {},
   "outputs": [
    {
     "data": {
      "text/plain": [
       "150"
      ]
     },
     "execution_count": 125,
     "metadata": {},
     "output_type": "execute_result"
    }
   ],
   "source": [
    "How_PG =[]\n",
    "for per_movie in movies:\n",
    "    PG= per_movie.find('span',class_=\"certificate\")\n",
    "    if PG!= None:\n",
    "        How_PG.append(PG.text.strip())\n",
    "    else: How_PG.append(None)\n",
    "len(How_PG)\n",
    "\n",
    "                       "
   ]
  },
  {
   "cell_type": "code",
   "execution_count": null,
   "metadata": {},
   "outputs": [],
   "source": []
  },
  {
   "cell_type": "code",
   "execution_count": 126,
   "metadata": {},
   "outputs": [
    {
     "data": {
      "text/plain": [
       "150"
      ]
     },
     "execution_count": 126,
     "metadata": {},
     "output_type": "execute_result"
    }
   ],
   "source": [
    "n_votes =[]\n",
    "for per_movie in movies:\n",
    "    votes= per_movie.find('p',class_=\"sort-num_votes-visible\").find_all('span')[1].text.strip()\n",
    "    n_votes.append(votes)\n",
    "len(n_votes)\n"
   ]
  },
  {
   "cell_type": "code",
   "execution_count": 127,
   "metadata": {},
   "outputs": [
    {
     "data": {
      "text/plain": [
       "150"
      ]
     },
     "execution_count": 127,
     "metadata": {},
     "output_type": "execute_result"
    }
   ],
   "source": [
    "gross_l = []\n",
    "for per_movie in movies:\n",
    "    gross= per_movie.find('p',class_=\"sort-num_votes-visible\").find_all('span')[-1].text.strip()\n",
    "    gross=gross.replace('M',\"\").replace('$',\"\")\n",
    "    gross_l.append(gross)\n",
    "len(gross_l)"
   ]
  },
  {
   "cell_type": "code",
   "execution_count": 129,
   "metadata": {},
   "outputs": [],
   "source": [
    "import xlsxwriter \n",
    "  \n",
    "workbook = xlsxwriter.Workbook('2019_Movie_Data.xlsx') \n",
    "worksheet = workbook.add_worksheet() \n",
    "  \n",
    "headings = [\"Movie Title\", \"IMDB rating\", \"Metascore\", \"Genres\",\"Runtime\",\"PG rating\",\"Number of Votes\",\n",
    "                    \"Gross Income\"] \n",
    "\n",
    "row=0\n",
    "column=0\n",
    "for heading in headings :  \n",
    "    worksheet.write(row, column, heading) \n",
    "    column += 1\n",
    "#titles    \n",
    "row=1\n",
    "column=0\n",
    "for title in tags :  \n",
    "    worksheet.write(row, column, title) \n",
    "    row += 1\n",
    "#IMDB Rating  \n",
    "row=1\n",
    "column=1\n",
    "for IMDB_rating in movie_ratings :  \n",
    "    worksheet.write(row, column, IMDB_rating) \n",
    "    row += 1\n",
    "#Metascores\n",
    "row=1\n",
    "column=2\n",
    "for score in metascores :  \n",
    "    worksheet.write(row, column, score) \n",
    "    row += 1\n",
    "#Genres    \n",
    "row=1\n",
    "column=3\n",
    "for genres in movie_genres :  \n",
    "    worksheet.write(row, column, genres) \n",
    "    row += 1  \n",
    "#Runtimes  \n",
    "row=1\n",
    "column=4\n",
    "for time in runtimes :  \n",
    "    worksheet.write(row, column, time) \n",
    "    row += 1\n",
    "#How_PG\n",
    "row=1\n",
    "column=5\n",
    "for pg in How_PG :  \n",
    "    worksheet.write(row, column, pg) \n",
    "    row += 1\n",
    "#n_votes\n",
    "row=1\n",
    "column=6\n",
    "for n in n_votes :  \n",
    "    worksheet.write(row, column, n) \n",
    "    row += 1      \n",
    "#gross_l\n",
    "row=1\n",
    "column=7\n",
    "for income in gross_l :  \n",
    "    worksheet.write(row, column, income) \n",
    "    row += 1        \n",
    "        \n",
    "workbook.close() "
   ]
  },
  {
   "cell_type": "code",
   "execution_count": null,
   "metadata": {},
   "outputs": [],
   "source": []
  },
  {
   "cell_type": "code",
   "execution_count": null,
   "metadata": {},
   "outputs": [],
   "source": []
  },
  {
   "cell_type": "code",
   "execution_count": null,
   "metadata": {},
   "outputs": [],
   "source": []
  },
  {
   "cell_type": "code",
   "execution_count": null,
   "metadata": {},
   "outputs": [],
   "source": []
  },
  {
   "cell_type": "code",
   "execution_count": null,
   "metadata": {},
   "outputs": [],
   "source": [
    "    "
   ]
  },
  {
   "cell_type": "code",
   "execution_count": null,
   "metadata": {},
   "outputs": [],
   "source": []
  }
 ],
 "metadata": {
  "kernelspec": {
   "display_name": "Python 3",
   "language": "python",
   "name": "python3"
  },
  "language_info": {
   "codemirror_mode": {
    "name": "ipython",
    "version": 3
   },
   "file_extension": ".py",
   "mimetype": "text/x-python",
   "name": "python",
   "nbconvert_exporter": "python",
   "pygments_lexer": "ipython3",
   "version": "3.7.4"
  }
 },
 "nbformat": 4,
 "nbformat_minor": 2
}
